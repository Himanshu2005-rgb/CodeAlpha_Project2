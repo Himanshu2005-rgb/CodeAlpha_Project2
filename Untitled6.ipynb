{
  "nbformat": 4,
  "nbformat_minor": 0,
  "metadata": {
    "colab": {
      "provenance": [],
      "authorship_tag": "ABX9TyObNlWGZI89mA5lLSuBJACP",
      "include_colab_link": true
    },
    "kernelspec": {
      "name": "python3",
      "display_name": "Python 3"
    },
    "language_info": {
      "name": "python"
    }
  },
  "cells": [
    {
      "cell_type": "markdown",
      "metadata": {
        "id": "view-in-github",
        "colab_type": "text"
      },
      "source": [
        "<a href=\"https://colab.research.google.com/github/Himanshu2005-rgb/CodeAlpha_Project2/blob/main/Untitled6.ipynb\" target=\"_parent\"><img src=\"https://colab.research.google.com/assets/colab-badge.svg\" alt=\"Open In Colab\"/></a>"
      ]
    },
    {
      "cell_type": "code",
      "execution_count": 2,
      "metadata": {
        "colab": {
          "base_uri": "https://localhost:8080/"
        },
        "id": "Q0E0Ppfo2KcI",
        "outputId": "7990aafb-e7ea-4ccf-927c-f01a27058bdc"
      },
      "outputs": [
        {
          "output_type": "stream",
          "name": "stdout",
          "text": [
            "Requirement already satisfied: googletrans==4.0.0-rc1 in /usr/local/lib/python3.12/dist-packages (4.0.0rc1)\n",
            "Requirement already satisfied: gradio in /usr/local/lib/python3.12/dist-packages (4.19.1)\n",
            "Requirement already satisfied: httpx==0.13.3 in /usr/local/lib/python3.12/dist-packages (from googletrans==4.0.0-rc1) (0.13.3)\n",
            "Requirement already satisfied: certifi in /usr/local/lib/python3.12/dist-packages (from httpx==0.13.3->googletrans==4.0.0-rc1) (2025.10.5)\n",
            "Requirement already satisfied: hstspreload in /usr/local/lib/python3.12/dist-packages (from httpx==0.13.3->googletrans==4.0.0-rc1) (2025.1.1)\n",
            "Requirement already satisfied: sniffio in /usr/local/lib/python3.12/dist-packages (from httpx==0.13.3->googletrans==4.0.0-rc1) (1.3.1)\n",
            "Requirement already satisfied: chardet==3.* in /usr/local/lib/python3.12/dist-packages (from httpx==0.13.3->googletrans==4.0.0-rc1) (3.0.4)\n",
            "Requirement already satisfied: idna==2.* in /usr/local/lib/python3.12/dist-packages (from httpx==0.13.3->googletrans==4.0.0-rc1) (2.10)\n",
            "Requirement already satisfied: rfc3986<2,>=1.3 in /usr/local/lib/python3.12/dist-packages (from httpx==0.13.3->googletrans==4.0.0-rc1) (1.5.0)\n",
            "Requirement already satisfied: httpcore==0.9.* in /usr/local/lib/python3.12/dist-packages (from httpx==0.13.3->googletrans==4.0.0-rc1) (0.9.1)\n",
            "Requirement already satisfied: h11<0.10,>=0.8 in /usr/local/lib/python3.12/dist-packages (from httpcore==0.9.*->httpx==0.13.3->googletrans==4.0.0-rc1) (0.9.0)\n",
            "Requirement already satisfied: h2==3.* in /usr/local/lib/python3.12/dist-packages (from httpcore==0.9.*->httpx==0.13.3->googletrans==4.0.0-rc1) (3.2.0)\n",
            "Requirement already satisfied: hyperframe<6,>=5.2.0 in /usr/local/lib/python3.12/dist-packages (from h2==3.*->httpcore==0.9.*->httpx==0.13.3->googletrans==4.0.0-rc1) (5.2.0)\n",
            "Requirement already satisfied: hpack<4,>=3.0 in /usr/local/lib/python3.12/dist-packages (from h2==3.*->httpcore==0.9.*->httpx==0.13.3->googletrans==4.0.0-rc1) (3.0.0)\n",
            "Requirement already satisfied: aiofiles<24.0,>=22.0 in /usr/local/lib/python3.12/dist-packages (from gradio) (23.2.1)\n",
            "Requirement already satisfied: altair<6.0,>=4.2.0 in /usr/local/lib/python3.12/dist-packages (from gradio) (5.5.0)\n",
            "Requirement already satisfied: fastapi in /usr/local/lib/python3.12/dist-packages (from gradio) (0.119.1)\n",
            "Requirement already satisfied: ffmpy in /usr/local/lib/python3.12/dist-packages (from gradio) (0.6.3)\n",
            "Requirement already satisfied: gradio-client==0.10.0 in /usr/local/lib/python3.12/dist-packages (from gradio) (0.10.0)\n",
            "Requirement already satisfied: huggingface-hub>=0.19.3 in /usr/local/lib/python3.12/dist-packages (from gradio) (0.35.3)\n",
            "Requirement already satisfied: importlib-resources<7.0,>=1.3 in /usr/local/lib/python3.12/dist-packages (from gradio) (6.5.2)\n",
            "Requirement already satisfied: jinja2<4.0 in /usr/local/lib/python3.12/dist-packages (from gradio) (3.1.6)\n",
            "Requirement already satisfied: markupsafe~=2.0 in /usr/local/lib/python3.12/dist-packages (from gradio) (2.1.5)\n",
            "Requirement already satisfied: matplotlib~=3.0 in /usr/local/lib/python3.12/dist-packages (from gradio) (3.10.0)\n",
            "Requirement already satisfied: numpy~=1.0 in /usr/local/lib/python3.12/dist-packages (from gradio) (1.26.4)\n",
            "Requirement already satisfied: orjson~=3.0 in /usr/local/lib/python3.12/dist-packages (from gradio) (3.11.3)\n",
            "Requirement already satisfied: packaging in /usr/local/lib/python3.12/dist-packages (from gradio) (25.0)\n",
            "Requirement already satisfied: pandas<3.0,>=1.0 in /usr/local/lib/python3.12/dist-packages (from gradio) (2.2.2)\n",
            "Requirement already satisfied: pillow<11.0,>=8.0 in /usr/local/lib/python3.12/dist-packages (from gradio) (10.4.0)\n",
            "Requirement already satisfied: pydantic>=2.0 in /usr/local/lib/python3.12/dist-packages (from gradio) (2.11.10)\n",
            "Requirement already satisfied: pydub in /usr/local/lib/python3.12/dist-packages (from gradio) (0.25.1)\n",
            "Requirement already satisfied: python-multipart>=0.0.9 in /usr/local/lib/python3.12/dist-packages (from gradio) (0.0.20)\n",
            "Requirement already satisfied: pyyaml<7.0,>=5.0 in /usr/local/lib/python3.12/dist-packages (from gradio) (6.0.3)\n",
            "Requirement already satisfied: ruff>=0.1.7 in /usr/local/lib/python3.12/dist-packages (from gradio) (0.14.1)\n",
            "Requirement already satisfied: semantic-version~=2.0 in /usr/local/lib/python3.12/dist-packages (from gradio) (2.10.0)\n",
            "Requirement already satisfied: tomlkit==0.12.0 in /usr/local/lib/python3.12/dist-packages (from gradio) (0.12.0)\n",
            "Requirement already satisfied: typer<1.0,>=0.9 in /usr/local/lib/python3.12/dist-packages (from typer[all]<1.0,>=0.9->gradio) (0.20.0)\n",
            "Requirement already satisfied: typing-extensions~=4.0 in /usr/local/lib/python3.12/dist-packages (from gradio) (4.15.0)\n",
            "Requirement already satisfied: uvicorn>=0.14.0 in /usr/local/lib/python3.12/dist-packages (from gradio) (0.38.0)\n",
            "Requirement already satisfied: fsspec in /usr/local/lib/python3.12/dist-packages (from gradio-client==0.10.0->gradio) (2025.3.0)\n",
            "Requirement already satisfied: websockets<12.0,>=10.0 in /usr/local/lib/python3.12/dist-packages (from gradio-client==0.10.0->gradio) (11.0.3)\n",
            "Requirement already satisfied: jsonschema>=3.0 in /usr/local/lib/python3.12/dist-packages (from altair<6.0,>=4.2.0->gradio) (4.25.1)\n",
            "Requirement already satisfied: narwhals>=1.14.2 in /usr/local/lib/python3.12/dist-packages (from altair<6.0,>=4.2.0->gradio) (2.9.0)\n",
            "Requirement already satisfied: filelock in /usr/local/lib/python3.12/dist-packages (from huggingface-hub>=0.19.3->gradio) (3.20.0)\n",
            "Requirement already satisfied: requests in /usr/local/lib/python3.12/dist-packages (from huggingface-hub>=0.19.3->gradio) (2.32.4)\n",
            "Requirement already satisfied: tqdm>=4.42.1 in /usr/local/lib/python3.12/dist-packages (from huggingface-hub>=0.19.3->gradio) (4.67.1)\n",
            "Requirement already satisfied: hf-xet<2.0.0,>=1.1.3 in /usr/local/lib/python3.12/dist-packages (from huggingface-hub>=0.19.3->gradio) (1.1.10)\n",
            "Requirement already satisfied: contourpy>=1.0.1 in /usr/local/lib/python3.12/dist-packages (from matplotlib~=3.0->gradio) (1.3.3)\n",
            "Requirement already satisfied: cycler>=0.10 in /usr/local/lib/python3.12/dist-packages (from matplotlib~=3.0->gradio) (0.12.1)\n",
            "Requirement already satisfied: fonttools>=4.22.0 in /usr/local/lib/python3.12/dist-packages (from matplotlib~=3.0->gradio) (4.60.1)\n",
            "Requirement already satisfied: kiwisolver>=1.3.1 in /usr/local/lib/python3.12/dist-packages (from matplotlib~=3.0->gradio) (1.4.9)\n",
            "Requirement already satisfied: pyparsing>=2.3.1 in /usr/local/lib/python3.12/dist-packages (from matplotlib~=3.0->gradio) (3.2.5)\n",
            "Requirement already satisfied: python-dateutil>=2.7 in /usr/local/lib/python3.12/dist-packages (from matplotlib~=3.0->gradio) (2.9.0.post0)\n",
            "Requirement already satisfied: pytz>=2020.1 in /usr/local/lib/python3.12/dist-packages (from pandas<3.0,>=1.0->gradio) (2025.2)\n",
            "Requirement already satisfied: tzdata>=2022.7 in /usr/local/lib/python3.12/dist-packages (from pandas<3.0,>=1.0->gradio) (2025.2)\n",
            "Requirement already satisfied: annotated-types>=0.6.0 in /usr/local/lib/python3.12/dist-packages (from pydantic>=2.0->gradio) (0.7.0)\n",
            "Requirement already satisfied: pydantic-core==2.33.2 in /usr/local/lib/python3.12/dist-packages (from pydantic>=2.0->gradio) (2.33.2)\n",
            "Requirement already satisfied: typing-inspection>=0.4.0 in /usr/local/lib/python3.12/dist-packages (from pydantic>=2.0->gradio) (0.4.2)\n",
            "Requirement already satisfied: click>=8.0.0 in /usr/local/lib/python3.12/dist-packages (from typer<1.0,>=0.9->typer[all]<1.0,>=0.9->gradio) (8.3.0)\n",
            "Requirement already satisfied: shellingham>=1.3.0 in /usr/local/lib/python3.12/dist-packages (from typer<1.0,>=0.9->typer[all]<1.0,>=0.9->gradio) (1.5.4)\n",
            "Requirement already satisfied: rich>=10.11.0 in /usr/local/lib/python3.12/dist-packages (from typer<1.0,>=0.9->typer[all]<1.0,>=0.9->gradio) (13.9.4)\n",
            "\u001b[33mWARNING: typer 0.20.0 does not provide the extra 'all'\u001b[0m\u001b[33m\n",
            "\u001b[0mRequirement already satisfied: starlette<0.49.0,>=0.40.0 in /usr/local/lib/python3.12/dist-packages (from fastapi->gradio) (0.48.0)\n",
            "Requirement already satisfied: attrs>=22.2.0 in /usr/local/lib/python3.12/dist-packages (from jsonschema>=3.0->altair<6.0,>=4.2.0->gradio) (25.4.0)\n",
            "Requirement already satisfied: jsonschema-specifications>=2023.03.6 in /usr/local/lib/python3.12/dist-packages (from jsonschema>=3.0->altair<6.0,>=4.2.0->gradio) (2025.9.1)\n",
            "Requirement already satisfied: referencing>=0.28.4 in /usr/local/lib/python3.12/dist-packages (from jsonschema>=3.0->altair<6.0,>=4.2.0->gradio) (0.37.0)\n",
            "Requirement already satisfied: rpds-py>=0.7.1 in /usr/local/lib/python3.12/dist-packages (from jsonschema>=3.0->altair<6.0,>=4.2.0->gradio) (0.27.1)\n",
            "Requirement already satisfied: six>=1.5 in /usr/local/lib/python3.12/dist-packages (from python-dateutil>=2.7->matplotlib~=3.0->gradio) (1.17.0)\n",
            "Requirement already satisfied: markdown-it-py>=2.2.0 in /usr/local/lib/python3.12/dist-packages (from rich>=10.11.0->typer<1.0,>=0.9->typer[all]<1.0,>=0.9->gradio) (4.0.0)\n",
            "Requirement already satisfied: pygments<3.0.0,>=2.13.0 in /usr/local/lib/python3.12/dist-packages (from rich>=10.11.0->typer<1.0,>=0.9->typer[all]<1.0,>=0.9->gradio) (2.19.2)\n",
            "Requirement already satisfied: anyio<5,>=3.6.2 in /usr/local/lib/python3.12/dist-packages (from starlette<0.49.0,>=0.40.0->fastapi->gradio) (4.11.0)\n",
            "Requirement already satisfied: charset_normalizer<4,>=2 in /usr/local/lib/python3.12/dist-packages (from requests->huggingface-hub>=0.19.3->gradio) (3.4.4)\n",
            "Requirement already satisfied: urllib3<3,>=1.21.1 in /usr/local/lib/python3.12/dist-packages (from requests->huggingface-hub>=0.19.3->gradio) (2.5.0)\n",
            "Requirement already satisfied: mdurl~=0.1 in /usr/local/lib/python3.12/dist-packages (from markdown-it-py>=2.2.0->rich>=10.11.0->typer<1.0,>=0.9->typer[all]<1.0,>=0.9->gradio) (0.1.2)\n",
            "Collecting gTTS\n",
            "  Downloading gTTS-2.5.4-py3-none-any.whl.metadata (4.1 kB)\n",
            "Requirement already satisfied: requests<3,>=2.27 in /usr/local/lib/python3.12/dist-packages (from gTTS) (2.32.4)\n",
            "Collecting click<8.2,>=7.1 (from gTTS)\n",
            "  Downloading click-8.1.8-py3-none-any.whl.metadata (2.3 kB)\n",
            "Requirement already satisfied: charset_normalizer<4,>=2 in /usr/local/lib/python3.12/dist-packages (from requests<3,>=2.27->gTTS) (3.4.4)\n",
            "Requirement already satisfied: idna<4,>=2.5 in /usr/local/lib/python3.12/dist-packages (from requests<3,>=2.27->gTTS) (2.10)\n",
            "Requirement already satisfied: urllib3<3,>=1.21.1 in /usr/local/lib/python3.12/dist-packages (from requests<3,>=2.27->gTTS) (2.5.0)\n",
            "Requirement already satisfied: certifi>=2017.4.17 in /usr/local/lib/python3.12/dist-packages (from requests<3,>=2.27->gTTS) (2025.10.5)\n",
            "Downloading gTTS-2.5.4-py3-none-any.whl (29 kB)\n",
            "Downloading click-8.1.8-py3-none-any.whl (98 kB)\n",
            "\u001b[2K   \u001b[90m━━━━━━━━━━━━━━━━━━━━━━━━━━━━━━━━━━━━━━━━\u001b[0m \u001b[32m98.2/98.2 kB\u001b[0m \u001b[31m10.4 MB/s\u001b[0m eta \u001b[36m0:00:00\u001b[0m\n",
            "\u001b[?25hInstalling collected packages: click, gTTS\n",
            "  Attempting uninstall: click\n",
            "    Found existing installation: click 8.3.0\n",
            "    Uninstalling click-8.3.0:\n",
            "      Successfully uninstalled click-8.3.0\n",
            "\u001b[31mERROR: pip's dependency resolver does not currently take into account all the packages that are installed. This behaviour is the source of the following dependency conflicts.\n",
            "google-adk 1.16.0 requires websockets<16.0.0,>=15.0.1, but you have websockets 11.0.3 which is incompatible.\u001b[0m\u001b[31m\n",
            "\u001b[0mSuccessfully installed click-8.1.8 gTTS-2.5.4\n"
          ]
        }
      ],
      "source": [
        "!pip install googletrans==4.0.0-rc1 gradio\n",
        "!pip install gTTS"
      ]
    },
    {
      "cell_type": "code",
      "source": [
        "from googletrans import Translator\n",
        "from gtts import gTTS\n",
        "from IPython.display import Audio"
      ],
      "metadata": {
        "id": "NhoH99sF2b90"
      },
      "execution_count": 3,
      "outputs": []
    },
    {
      "cell_type": "code",
      "source": [
        "translator = Translator()\n"
      ],
      "metadata": {
        "id": "iVITIW0k2fds"
      },
      "execution_count": 4,
      "outputs": []
    },
    {
      "cell_type": "code",
      "source": [
        "def translate_text(text, src_lang='auto', dest_lang='hi'):\n",
        "    \"\"\"Translate text from one language to another.\"\"\"\n",
        "    translated = translator.translate(text, src=src_lang, dest=dest_lang)\n",
        "    print(f\"Original ({translated.src}): {text}\")\n",
        "    print(f\"Translated ({translated.dest}): {translated.text}\")\n",
        "    return translated.text"
      ],
      "metadata": {
        "id": "1wFTvBq-203r"
      },
      "execution_count": 5,
      "outputs": []
    },
    {
      "cell_type": "code",
      "source": [
        "user_text = \"Hello, how are you today?\"\n",
        "output_text = translate_text(user_text, src_lang='en', dest_lang='hi')"
      ],
      "metadata": {
        "colab": {
          "base_uri": "https://localhost:8080/"
        },
        "id": "NhjgDj6w23ki",
        "outputId": "74a23296-b10b-47df-98f4-236912c5169b"
      },
      "execution_count": 6,
      "outputs": [
        {
          "output_type": "stream",
          "name": "stdout",
          "text": [
            "Original (en): Hello, how are you today?\n",
            "Translated (hi): हैलो आज आप कैसे हैं?\n"
          ]
        }
      ]
    },
    {
      "cell_type": "code",
      "source": [
        "def speak_text(text, lang='hi'):\n",
        "    tts = gTTS(text=text, lang=lang)\n",
        "    tts.save(\"speech.mp3\")\n",
        "    return Audio(\"speech.mp3\")\n",
        "\n",
        "# Play translated voice\n",
        "speak_text(output_text, lang='hi')"
      ],
      "metadata": {
        "colab": {
          "base_uri": "https://localhost:8080/",
          "height": 76
        },
        "id": "D5mjBDhD27ai",
        "outputId": "f3135da5-16b8-43c1-d899-067454e30655"
      },
      "execution_count": 7,
      "outputs": [
        {
          "output_type": "execute_result",
          "data": {
            "text/plain": [
              "<IPython.lib.display.Audio object>"
            ],
            "text/html": [
              "\n",
              "                <audio  controls=\"controls\" >\n",
              "                    <source src=\"data:audio/mpeg;base64,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\" type=\"audio/mpeg\" />\n",
              "                    Your browser does not support the audio element.\n",
              "                </audio>\n",
              "              "
            ]
          },
          "metadata": {},
          "execution_count": 7
        }
      ]
    },
    {
      "cell_type": "code",
      "source": [
        "print(\"🌍 Welcome to the Language Translation Tool!\")\n",
        "text = input(\"Enter text to translate: \")\n",
        "src = input(\"Enter source language code (e.g. en, fr, hi, auto): \") or \"auto\"\n",
        "dest = input(\"Enter target language code (e.g. hi, en, es, fr): \")\n",
        "\n",
        "translated_text = translate_text(text, src, dest)\n",
        "\n",
        "play = input(\"Do you want to hear the translation? (yes/no): \").lower()\n",
        "if play == \"yes\":\n",
        "    speak_text(translated_text, lang=dest)"
      ],
      "metadata": {
        "colab": {
          "base_uri": "https://localhost:8080/"
        },
        "id": "VE2r0Z-u2-zb",
        "outputId": "c5faf6d0-c5a7-4a9f-9db7-298227330242"
      },
      "execution_count": 8,
      "outputs": [
        {
          "name": "stdout",
          "output_type": "stream",
          "text": [
            "🌍 Welcome to the Language Translation Tool!\n",
            "Enter text to translate: hello\n",
            "Enter source language code (e.g. en, fr, hi, auto): hi\n",
            "Enter target language code (e.g. hi, en, es, fr): fr\n",
            "Original (hi): hello\n",
            "Translated (fr): Bonjour\n",
            "Do you want to hear the translation? (yes/no): no\n"
          ]
        }
      ]
    }
  ]
}