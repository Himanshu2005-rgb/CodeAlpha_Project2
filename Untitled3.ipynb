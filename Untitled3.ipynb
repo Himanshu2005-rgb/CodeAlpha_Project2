{
  "nbformat": 4,
  "nbformat_minor": 0,
  "metadata": {
    "colab": {
      "provenance": [],
      "authorship_tag": "ABX9TyMbmgIY51uwCaFDv/wvHfbS",
      "include_colab_link": true
    },
    "kernelspec": {
      "name": "python3",
      "display_name": "Python 3"
    },
    "language_info": {
      "name": "python"
    }
  },
  "cells": [
    {
      "cell_type": "markdown",
      "metadata": {
        "id": "view-in-github",
        "colab_type": "text"
      },
      "source": [
        "<a href=\"https://colab.research.google.com/github/Himanshu2005-rgb/CodeAlpha_Project2/blob/main/Untitled3.ipynb\" target=\"_parent\"><img src=\"https://colab.research.google.com/assets/colab-badge.svg\" alt=\"Open In Colab\"/></a>"
      ]
    },
    {
      "cell_type": "code",
      "execution_count": 1,
      "metadata": {
        "colab": {
          "base_uri": "https://localhost:8080/"
        },
        "id": "MBpAUdeYzgF5",
        "outputId": "eb2c5bad-ec17-4754-c6f8-412b2134e6ab"
      },
      "outputs": [
        {
          "output_type": "stream",
          "name": "stdout",
          "text": [
            "Requirement already satisfied: nltk in /usr/local/lib/python3.12/dist-packages (3.9.1)\n",
            "Requirement already satisfied: scikit-learn in /usr/local/lib/python3.12/dist-packages (1.6.1)\n",
            "Requirement already satisfied: click in /usr/local/lib/python3.12/dist-packages (from nltk) (8.3.0)\n",
            "Requirement already satisfied: joblib in /usr/local/lib/python3.12/dist-packages (from nltk) (1.5.2)\n",
            "Requirement already satisfied: regex>=2021.8.3 in /usr/local/lib/python3.12/dist-packages (from nltk) (2024.11.6)\n",
            "Requirement already satisfied: tqdm in /usr/local/lib/python3.12/dist-packages (from nltk) (4.67.1)\n",
            "Requirement already satisfied: numpy>=1.19.5 in /usr/local/lib/python3.12/dist-packages (from scikit-learn) (2.0.2)\n",
            "Requirement already satisfied: scipy>=1.6.0 in /usr/local/lib/python3.12/dist-packages (from scikit-learn) (1.16.2)\n",
            "Requirement already satisfied: threadpoolctl>=3.1.0 in /usr/local/lib/python3.12/dist-packages (from scikit-learn) (3.6.0)\n"
          ]
        }
      ],
      "source": [
        "!pip install nltk scikit-learn\n"
      ]
    },
    {
      "cell_type": "code",
      "source": [
        "import json\n",
        "from sklearn.feature_extraction.text import TfidfVectorizer\n",
        "from sklearn.metrics.pairwise import cosine_similarity"
      ],
      "metadata": {
        "id": "EeHpG5nbzkBF"
      },
      "execution_count": 2,
      "outputs": []
    },
    {
      "cell_type": "code",
      "source": [
        "faqs = [\n",
        "    {\"question\": \"What is AI?\",\n",
        "     \"answer\": \"AI stands for Artificial Intelligence. It enables machines to learn and perform tasks.\"},\n",
        "    {\"question\": \"What is machine learning?\",\n",
        "     \"answer\": \"Machine Learning is a subset of AI that allows systems to learn from data.\"},\n",
        "    {\"question\": \"What is Python?\",\n",
        "     \"answer\": \"Python is a high-level programming language used for many applications including AI.\"},\n",
        "    {\"question\": \"Who developed Python?\",\n",
        "     \"answer\": \"Python was developed by Guido van Rossum.\"},\n",
        "    {\"question\": \"What is Flask?\",\n",
        "     \"answer\": \"Flask is a lightweight web framework for Python.\"}\n",
        "]"
      ],
      "metadata": {
        "id": "9WABFDnXznKV"
      },
      "execution_count": 3,
      "outputs": []
    },
    {
      "cell_type": "code",
      "source": [
        "questions = [faq[\"question\"] for faq in faqs]\n",
        "answers   = [faq[\"answer\"] for faq in faqs]\n",
        "\n",
        "# Convert text to TF-IDF vectors\n",
        "vectorizer = TfidfVectorizer()\n",
        "X = vectorizer.fit_transform(questions)"
      ],
      "metadata": {
        "id": "1UNsPNrwzqrN"
      },
      "execution_count": 4,
      "outputs": []
    },
    {
      "cell_type": "code",
      "source": [
        "def chatbot_response(user_input):\n",
        "    user_vec = vectorizer.transform([user_input])\n",
        "    similarities = cosine_similarity(user_vec, X)\n",
        "    index = similarities.argmax()\n",
        "    score = similarities[0, index]\n",
        "\n",
        "    if score < 0.3:\n",
        "        return \"🤖 I'm sorry, I don't understand that question.\"\n",
        "    else:\n",
        "        return answers[index]\n"
      ],
      "metadata": {
        "id": "Q4wUWlWazuds"
      },
      "execution_count": 5,
      "outputs": []
    },
    {
      "cell_type": "code",
      "source": [
        "print(\"Chatbot 🤖: Hello! Ask me anything about AI, ML, or Python. Type 'quit' to stop.\\n\")\n",
        "\n",
        "while True:\n",
        "    user_input = input(\"You: \")\n",
        "    if user_input.lower() == 'quit':\n",
        "        print(\"Chatbot 🤖: Goodbye!\")\n",
        "        break\n",
        "    print(\"Chatbot 🤖:\", chatbot_response(user_input))\n"
      ],
      "metadata": {
        "colab": {
          "base_uri": "https://localhost:8080/"
        },
        "id": "mi6doDWSzxcl",
        "outputId": "8ff729b4-c5f5-4cc9-8fd5-0d96a2c96310"
      },
      "execution_count": null,
      "outputs": [
        {
          "output_type": "stream",
          "name": "stdout",
          "text": [
            "Chatbot 🤖: Hello! Ask me anything about AI, ML, or Python. Type 'quit' to stop.\n",
            "\n",
            "You: what is ai\n",
            "Chatbot 🤖: AI stands for Artificial Intelligence. It enables machines to learn and perform tasks.\n"
          ]
        }
      ]
    }
  ]
}